{
  "nbformat": 4,
  "nbformat_minor": 0,
  "metadata": {
    "colab": {
      "provenance": []
    },
    "kernelspec": {
      "name": "python3",
      "display_name": "Python 3"
    },
    "language_info": {
      "name": "python"
    }
  },
  "cells": [
    {
      "cell_type": "code",
      "execution_count": null,
      "metadata": {
        "id": "W7SnleeV7d-Q"
      },
      "outputs": [],
      "source": [
        "!pip install transformers datasets torch accelerate\n"
      ]
    },
    {
      "cell_type": "code",
      "source": [
        "import pandas as pd\n",
        "df = pd.read_csv(\"qa_dataset.csv\", quotechar='\"', escapechar='\\\\')\n",
        "df.head()\n"
      ],
      "metadata": {
        "id": "PKCbKgv57gYx"
      },
      "execution_count": null,
      "outputs": []
    },
    {
      "cell_type": "code",
      "source": [
        "import pandas as pd\n",
        "from datasets import Dataset\n",
        "\n",
        "# Load the CSV you uploaded\n",
        "df = pd.read_csv(\"qa_dataset.csv\")\n",
        "\n",
        "# Combine question and answer into a single conversational text\n",
        "df[\"text\"] = \"User: \" + df[\"question\"] + \"\\nBot: \" + df[\"answer\"]\n",
        "\n",
        "# Convert to Hugging Face dataset\n",
        "dataset = Dataset.from_pandas(df[[\"text\"]])\n",
        "dataset = dataset.train_test_split(test_size=0.1)\n",
        "\n",
        "print(dataset)\n",
        "\n"
      ],
      "metadata": {
        "id": "6cKgIltO_H5-"
      },
      "execution_count": null,
      "outputs": []
    },
    {
      "cell_type": "code",
      "source": [
        "from transformers import GPT2Tokenizer\n",
        "\n",
        "tokenizer = GPT2Tokenizer.from_pretrained(\"gpt2\")\n",
        "tokenizer.pad_token = tokenizer.eos_token\n",
        "\n",
        "def tokenize(batch):\n",
        "    return tokenizer(batch[\"text\"], truncation=True, padding=\"max_length\", max_length=128)\n",
        "\n",
        "tokenized_datasets = dataset.map(tokenize, batched=True)\n"
      ],
      "metadata": {
        "id": "kpbDlfZc_wT5"
      },
      "execution_count": null,
      "outputs": []
    },
    {
      "cell_type": "code",
      "source": [
        "print(tokenized_datasets[\"train\"][0])\n"
      ],
      "metadata": {
        "id": "NRUps7D2_3Ur"
      },
      "execution_count": null,
      "outputs": []
    },
    {
      "cell_type": "code",
      "source": [
        "# Add labels for language modeling (GPT-2 needs them)\n",
        "tokenized_datasets = tokenized_datasets.map(\n",
        "    lambda samples: {\"labels\": samples[\"input_ids\"]}, batched=True\n",
        ")\n"
      ],
      "metadata": {
        "id": "8N6NA7XjB_8E"
      },
      "execution_count": null,
      "outputs": []
    },
    {
      "cell_type": "code",
      "source": [
        "from transformers import GPT2LMHeadModel\n",
        "\n",
        "# Load pre-trained GPT-2 base model\n",
        "model = GPT2LMHeadModel.from_pretrained(\"gpt2\")\n",
        "\n",
        "# Make sure tokenizer and model have same vocab size\n",
        "model.resize_token_embeddings(len(tokenizer))\n"
      ],
      "metadata": {
        "id": "M2vpxojq___0"
      },
      "execution_count": null,
      "outputs": []
    },
    {
      "cell_type": "code",
      "source": [
        "!pip install -U transformers\n"
      ],
      "metadata": {
        "id": "ow8cfZc9A4YN"
      },
      "execution_count": null,
      "outputs": []
    },
    {
      "cell_type": "code",
      "source": [
        "from transformers import GPT2LMHeadModel, Trainer, TrainingArguments\n",
        "\n",
        "model = GPT2LMHeadModel.from_pretrained(\"gpt2\")\n",
        "model.resize_token_embeddings(len(tokenizer))\n",
        "\n",
        "# ✅ Add labels\n",
        "tokenized_datasets = tokenized_datasets.map(\n",
        "    lambda samples: {\"labels\": samples[\"input_ids\"]}, batched=True\n",
        ")\n",
        "\n",
        "training_args = TrainingArguments(\n",
        "    output_dir=\"./results\",\n",
        "    eval_strategy=\"epoch\",     # or evaluation_strategy if updated version\n",
        "    learning_rate=5e-5,\n",
        "    num_train_epochs=3,\n",
        "    per_device_train_batch_size=2,\n",
        "    per_device_eval_batch_size=2,\n",
        "    warmup_steps=50,\n",
        "    weight_decay=0.01,\n",
        "    logging_dir=\"./logs\",\n",
        "    logging_steps=10,\n",
        "    save_total_limit=2,\n",
        "    report_to=\"none\",          # ✅ Disable W&B if you don't want tracking\n",
        ")\n",
        "\n",
        "trainer = Trainer(\n",
        "    model=model,\n",
        "    args=training_args,\n",
        "    train_dataset=tokenized_datasets[\"train\"],\n",
        "    eval_dataset=tokenized_datasets[\"test\"],\n",
        "    tokenizer=tokenizer,\n",
        ")\n",
        "\n",
        "trainer.train()\n"
      ],
      "metadata": {
        "id": "PCj9Zf-6CGpr"
      },
      "execution_count": null,
      "outputs": []
    },
    {
      "cell_type": "code",
      "source": [
        "def chat(prompt):\n",
        "    inputs = tokenizer.encode(prompt, return_tensors=\"pt\")\n",
        "    outputs = model.generate(\n",
        "        inputs,\n",
        "        max_length=120,\n",
        "        top_k=50,\n",
        "        top_p=0.9,\n",
        "        temperature=0.8,\n",
        "        pad_token_id=tokenizer.eos_token_id,\n",
        "    )\n",
        "    return tokenizer.decode(outputs[0], skip_special_tokens=True)\n",
        "\n",
        "print(chat(\"User: What is Artificial Intelligence?\\nBot:\"))\n"
      ],
      "metadata": {
        "id": "jUyUTVB9CwgZ"
      },
      "execution_count": null,
      "outputs": []
    }
  ]
}